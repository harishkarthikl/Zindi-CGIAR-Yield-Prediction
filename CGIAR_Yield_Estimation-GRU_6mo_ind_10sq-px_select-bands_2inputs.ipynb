{
 "cells": [
  {
   "cell_type": "code",
   "execution_count": 1,
   "metadata": {
    "id": "TTWgteym1IMD"
   },
   "outputs": [],
   "source": [
    "import pandas as pd\n",
    "import numpy as np\n",
    "from matplotlib import pyplot as plt\n",
    "from Zindi import *\n",
    "from numpy.random import seed\n",
    "seed(7)"
   ]
  },
  {
   "cell_type": "code",
   "execution_count": 2,
   "metadata": {},
   "outputs": [],
   "source": [
    "X = np.load('train_ind_scaled_6m.npy').astype(np.float16)\n",
    "y = np.load('train_labels.npy').astype(np.float16)"
   ]
  },
  {
   "cell_type": "markdown",
   "metadata": {},
   "source": [
    "## Data Augmentation"
   ]
  },
  {
   "cell_type": "code",
   "execution_count": 3,
   "metadata": {},
   "outputs": [],
   "source": [
    "#Generate new images rotated 90deg clockwise\n",
    "Xaug1 = X.swapaxes(2,3)[:,:,:,::-1,:]\n",
    "#generate new images rotated 180deg clockwise\n",
    "Xaug2 = Xaug1.swapaxes(2,3)[:,:,:,::-1,:]\n",
    "#Generate new images rotated 90deg counter-clockwise\n",
    "Xaug3 = X.swapaxes(2,3)[:,:,::-1,:,:]"
   ]
  },
  {
   "cell_type": "code",
   "execution_count": 4,
   "metadata": {},
   "outputs": [],
   "source": [
    "#Generate new images by 10px horizontal shift\n",
    "Xaug4 = np.roll(X, 3, axis=2)\n",
    "Xaug5 = np.roll(X, -3, axis=2)\n",
    "#Generate new images by 10px vertical shift\n",
    "Xaug6 = np.roll(X, 3, axis=3)\n",
    "Xaug7 = np.roll(X, -3, axis=3)"
   ]
  },
  {
   "cell_type": "code",
   "execution_count": 5,
   "metadata": {},
   "outputs": [
    {
     "name": "stdout",
     "output_type": "stream",
     "text": [
      "Augmented feature shape (20416, 6, 40, 40, 27)\n",
      "Augmented labels shape (20416,)\n"
     ]
    }
   ],
   "source": [
    "#Stack all rotated inputs together, and labels.\n",
    "Xaug = np.vstack((X, Xaug1, Xaug2, Xaug3, Xaug4, Xaug5, Xaug6, Xaug7))\n",
    "yaug = np.hstack((y, y, y, y, y, y, y, y))\n",
    "print(\"Augmented feature shape\", Xaug.shape)\n",
    "print(\"Augmented labels shape\", yaug.shape)"
   ]
  },
  {
   "cell_type": "markdown",
   "metadata": {},
   "source": [
    "## Select only the 10 square pixels at the center"
   ]
  },
  {
   "cell_type": "code",
   "execution_count": 6,
   "metadata": {},
   "outputs": [],
   "source": [
    "#Split Sentinel 2A channels and Terraclim channels (ignore QA60 channel from Sentinel)\n",
    "#Select only B1, B5, B7 & B7 (all 4 calculated indices) from Sentinel 2A\n",
    "#Select only pdsi, pr, tmmn, tmmx\n",
    "X1_temp = Xaug[:,:,16:26,16:26,(0,1,9,10)]\n",
    "X2_temp = Xaug[:,:,16:26,16:26,(16,18,23,24)]"
   ]
  },
  {
   "cell_type": "code",
   "execution_count": 7,
   "metadata": {},
   "outputs": [],
   "source": [
    "#Shuffle augmented data once again\n",
    "indices = np.arange(X1_temp.shape[0])\n",
    "np.random.shuffle(indices)\n",
    "X1_temp = X1_temp[indices]\n",
    "X2_temp = X2_temp[indices]\n",
    "y = yaug[indices]"
   ]
  },
  {
   "cell_type": "code",
   "execution_count": 8,
   "metadata": {},
   "outputs": [],
   "source": [
    "#Terraclim values are same across pixels with rare differences. Lets takes only the mean values\n",
    "X1 = np.mean(X1_temp, axis=(2,3))\n",
    "X2 = np.mean(X2_temp, axis=(2,3))"
   ]
  },
  {
   "cell_type": "code",
   "execution_count": 9,
   "metadata": {},
   "outputs": [
    {
     "name": "stdout",
     "output_type": "stream",
     "text": [
      "X1 shape is:  (20416, 6, 4)\n",
      "X2 shape is:  (20416, 6, 4)\n"
     ]
    }
   ],
   "source": [
    "print(\"X1 shape is: \", X1.shape)\n",
    "print(\"X2 shape is: \", X2.shape)"
   ]
  },
  {
   "cell_type": "code",
   "execution_count": 10,
   "metadata": {
    "scrolled": true
   },
   "outputs": [
    {
     "name": "stdout",
     "output_type": "stream",
     "text": [
      "Train set shape:  (20016, 6, 4)\n",
      "Train target shape:  (20016,)\n",
      "Val set shape:  (200, 6, 4)\n",
      "Val target shape:  (200,)\n",
      "Test set shape:  (200, 6, 4)\n",
      "Test target shape:  (200,)\n"
     ]
    }
   ],
   "source": [
    "#Split train, validation and test sets for Sentinel 2A channels\n",
    "X1_train, y_train, X1_val, y_val, X1_test, y_test = train_val_test_split(X1, yaug, 200)"
   ]
  },
  {
   "cell_type": "code",
   "execution_count": 11,
   "metadata": {
    "scrolled": true
   },
   "outputs": [
    {
     "name": "stdout",
     "output_type": "stream",
     "text": [
      "Train set shape:  (20016, 6, 4)\n",
      "Train target shape:  (20016,)\n",
      "Val set shape:  (200, 6, 4)\n",
      "Val target shape:  (200,)\n",
      "Test set shape:  (200, 6, 4)\n",
      "Test target shape:  (200,)\n"
     ]
    }
   ],
   "source": [
    "#Split train, validation and test sets for Terraclim channels\n",
    "X2_train, _, X2_val, _, X2_test, _ = train_val_test_split(X2, yaug, 200)"
   ]
  },
  {
   "cell_type": "markdown",
   "metadata": {},
   "source": [
    "## Build a GRU NN"
   ]
  },
  {
   "cell_type": "code",
   "execution_count": 12,
   "metadata": {},
   "outputs": [],
   "source": [
    "import tensorflow as tf\n",
    "from tensorflow.keras.models import Sequential\n",
    "from tensorflow.keras.layers import GRU, Dense, Flatten, Dropout, BatchNormalization, Concatenate\n",
    "from tensorflow.keras.optimizers import Adam\n",
    "from tensorflow.keras.losses import MeanSquaredError\n",
    "from tensorflow.keras.callbacks import ReduceLROnPlateau, TensorBoard"
   ]
  },
  {
   "cell_type": "code",
   "execution_count": 13,
   "metadata": {},
   "outputs": [
    {
     "name": "stdout",
     "output_type": "stream",
     "text": [
      "# of GPU's available:  1\n"
     ]
    }
   ],
   "source": [
    "physical_devices = tf.config.list_physical_devices('GPU') \n",
    "physical_device = tf.config.experimental.list_physical_devices('GPU')\n",
    "print(\"# of GPU's available: \", len(physical_device))\n",
    "tf.config.experimental.set_memory_growth(physical_device[0], True)"
   ]
  },
  {
   "cell_type": "code",
   "execution_count": 14,
   "metadata": {},
   "outputs": [],
   "source": [
    "#Build a GRU model for Sentinel 2A channels\n",
    "input_S2A = tf.keras.Input(shape=(None, 4))\n",
    "gru_S2_1 = GRU(units=64,\n",
    "               activation=\"tanh\",\n",
    "               kernel_initializer=\"glorot_uniform\",\n",
    "               return_sequences=True,\n",
    "               dropout=0.25)(input_S2A)\n",
    "batch_S2_1 = BatchNormalization()(gru_S2_1)\n",
    "gru_S2_2 = GRU(units=128,\n",
    "               activation=\"tanh\",\n",
    "               kernel_initializer=\"glorot_uniform\",\n",
    "               return_sequences=False,\n",
    "               dropout=0.25)(batch_S2_1)\n",
    "batch_S2_2 = BatchNormalization()(gru_S2_2)\n",
    "flat_S2_1 = Flatten()(batch_S2_2)\n",
    "drop_S2_1 = Dropout(rate=0.25, seed=99)(flat_S2_1)\n",
    "dense_S2_1 = Dense(units=64, activation='relu')(drop_S2_1)\n",
    "\n",
    "#Build an GRU model for Terraclim channels\n",
    "input_TC = tf.keras.Input(shape=(None,4))\n",
    "gru_TC_1 = GRU(units=32,\n",
    "             activation=\"tanh\",\n",
    "             kernel_initializer=\"glorot_uniform\",\n",
    "             return_sequences=True,\n",
    "             dropout=0.25)(input_TC)\n",
    "batch_TC_1 = BatchNormalization()(gru_TC_1)\n",
    "gru_TC_2 = GRU(units=64,\n",
    "               activation=\"tanh\",\n",
    "               kernel_initializer=\"glorot_uniform\",\n",
    "               return_sequences=False,\n",
    "               dropout=0.25)(batch_TC_1)\n",
    "batch_TC_2 = BatchNormalization()(gru_TC_2)\n",
    "drop_TC_1 = Dropout(rate=0.25, seed=99)(batch_TC_2)\n",
    "dense_TC_1 = Dense(units=64, activation='relu')(drop_TC_1)\n",
    "\n",
    "#Combine both model outputs\n",
    "concat = Concatenate()([dense_S2_1, dense_TC_1])\n",
    "dense_1 = Dense(units=32, activation='relu')(concat)\n",
    "drop_1 = Dropout(rate=0.25, seed=99)(dense_1)\n",
    "output = Dense(units=1, activation='linear')(drop_1)\n",
    "\n",
    "model = tf.keras.Model([input_S2A, input_TC], output)"
   ]
  },
  {
   "cell_type": "code",
   "execution_count": 15,
   "metadata": {
    "scrolled": true
   },
   "outputs": [
    {
     "name": "stdout",
     "output_type": "stream",
     "text": [
      "Model: \"functional_1\"\n",
      "__________________________________________________________________________________________________\n",
      "Layer (type)                    Output Shape         Param #     Connected to                     \n",
      "==================================================================================================\n",
      "input_1 (InputLayer)            [(None, None, 4)]    0                                            \n",
      "__________________________________________________________________________________________________\n",
      "gru (GRU)                       (None, None, 64)     13440       input_1[0][0]                    \n",
      "__________________________________________________________________________________________________\n",
      "input_2 (InputLayer)            [(None, None, 4)]    0                                            \n",
      "__________________________________________________________________________________________________\n",
      "batch_normalization (BatchNorma (None, None, 64)     256         gru[0][0]                        \n",
      "__________________________________________________________________________________________________\n",
      "gru_2 (GRU)                     (None, None, 32)     3648        input_2[0][0]                    \n",
      "__________________________________________________________________________________________________\n",
      "gru_1 (GRU)                     (None, 128)          74496       batch_normalization[0][0]        \n",
      "__________________________________________________________________________________________________\n",
      "batch_normalization_2 (BatchNor (None, None, 32)     128         gru_2[0][0]                      \n",
      "__________________________________________________________________________________________________\n",
      "batch_normalization_1 (BatchNor (None, 128)          512         gru_1[0][0]                      \n",
      "__________________________________________________________________________________________________\n",
      "gru_3 (GRU)                     (None, 64)           18816       batch_normalization_2[0][0]      \n",
      "__________________________________________________________________________________________________\n",
      "flatten (Flatten)               (None, 128)          0           batch_normalization_1[0][0]      \n",
      "__________________________________________________________________________________________________\n",
      "batch_normalization_3 (BatchNor (None, 64)           256         gru_3[0][0]                      \n",
      "__________________________________________________________________________________________________\n",
      "dropout (Dropout)               (None, 128)          0           flatten[0][0]                    \n",
      "__________________________________________________________________________________________________\n",
      "dropout_1 (Dropout)             (None, 64)           0           batch_normalization_3[0][0]      \n",
      "__________________________________________________________________________________________________\n",
      "dense (Dense)                   (None, 64)           8256        dropout[0][0]                    \n",
      "__________________________________________________________________________________________________\n",
      "dense_1 (Dense)                 (None, 64)           4160        dropout_1[0][0]                  \n",
      "__________________________________________________________________________________________________\n",
      "concatenate (Concatenate)       (None, 128)          0           dense[0][0]                      \n",
      "                                                                 dense_1[0][0]                    \n",
      "__________________________________________________________________________________________________\n",
      "dense_2 (Dense)                 (None, 32)           4128        concatenate[0][0]                \n",
      "__________________________________________________________________________________________________\n",
      "dropout_2 (Dropout)             (None, 32)           0           dense_2[0][0]                    \n",
      "__________________________________________________________________________________________________\n",
      "dense_3 (Dense)                 (None, 1)            33          dropout_2[0][0]                  \n",
      "==================================================================================================\n",
      "Total params: 128,129\n",
      "Trainable params: 127,553\n",
      "Non-trainable params: 576\n",
      "__________________________________________________________________________________________________\n"
     ]
    }
   ],
   "source": [
    "model.summary()"
   ]
  },
  {
   "cell_type": "code",
   "execution_count": 16,
   "metadata": {
    "colab": {
     "base_uri": "https://localhost:8080/",
     "height": 301
    },
    "id": "n6KcHAzaHR9y",
    "outputId": "936e7eb5-ea3c-4474-8e9a-eea69adf61a7"
   },
   "outputs": [],
   "source": [
    "#Compile model\n",
    "opt = Adam(learning_rate=0.02)\n",
    "loss = MeanSquaredError()\n",
    "model.compile(optimizer=opt, loss=loss, metrics=[tf.keras.metrics.RootMeanSquaredError()])"
   ]
  },
  {
   "cell_type": "code",
   "execution_count": 17,
   "metadata": {
    "scrolled": true
   },
   "outputs": [
    {
     "name": "stdout",
     "output_type": "stream",
     "text": [
      "Epoch 1/10\n",
      "  1/668 [..............................] - ETA: 0s - loss: 12.2029 - root_mean_squared_error: 3.4933WARNING:tensorflow:From C:\\Users\\Harish\\anaconda3\\lib\\site-packages\\tensorflow\\python\\ops\\summary_ops_v2.py:1277: stop (from tensorflow.python.eager.profiler) is deprecated and will be removed after 2020-07-01.\n",
      "Instructions for updating:\n",
      "use `tf.profiler.experimental.stop` instead.\n",
      "  2/668 [..............................] - ETA: 27s - loss: 14.7474 - root_mean_squared_error: 3.8402WARNING:tensorflow:Callbacks method `on_train_batch_end` is slow compared to the batch time (batch time: 0.0090s vs `on_train_batch_end` time: 0.0717s). Check your callbacks.\n",
      "668/668 [==============================] - 7s 10ms/step - loss: 3.3654 - root_mean_squared_error: 1.8345 - val_loss: 3.6756 - val_root_mean_squared_error: 1.9172\n",
      "Epoch 2/10\n",
      "668/668 [==============================] - 5s 8ms/step - loss: 2.9539 - root_mean_squared_error: 1.7187 - val_loss: 4.0952 - val_root_mean_squared_error: 2.0236\n",
      "Epoch 3/10\n",
      "668/668 [==============================] - 5s 8ms/step - loss: 2.9528 - root_mean_squared_error: 1.7184 - val_loss: 4.1305 - val_root_mean_squared_error: 2.0324\n",
      "Epoch 4/10\n",
      "668/668 [==============================] - 5s 8ms/step - loss: 2.9524 - root_mean_squared_error: 1.7182 - val_loss: 4.1960 - val_root_mean_squared_error: 2.0484\n",
      "Epoch 5/10\n",
      "668/668 [==============================] - 5s 8ms/step - loss: 2.9516 - root_mean_squared_error: 1.7180 - val_loss: 3.9105 - val_root_mean_squared_error: 1.9775\n",
      "Epoch 6/10\n",
      "668/668 [==============================] - 5s 8ms/step - loss: 2.9528 - root_mean_squared_error: 1.7184 - val_loss: 4.0802 - val_root_mean_squared_error: 2.0200\n",
      "Epoch 7/10\n",
      "668/668 [==============================] - 5s 8ms/step - loss: 2.9510 - root_mean_squared_error: 1.7179 - val_loss: 4.0236 - val_root_mean_squared_error: 2.0059\n",
      "Epoch 8/10\n",
      "668/668 [==============================] - 5s 8ms/step - loss: 2.9504 - root_mean_squared_error: 1.7177 - val_loss: 4.1167 - val_root_mean_squared_error: 2.0290\n",
      "Epoch 9/10\n",
      "668/668 [==============================] - 5s 8ms/step - loss: 2.9513 - root_mean_squared_error: 1.7179 - val_loss: 4.0710 - val_root_mean_squared_error: 2.0177\n",
      "Epoch 10/10\n",
      "668/668 [==============================] - 5s 8ms/step - loss: 2.9507 - root_mean_squared_error: 1.7178 - val_loss: 4.0501 - val_root_mean_squared_error: 2.0125\n"
     ]
    }
   ],
   "source": [
    "#Set learning rate with callbacks\n",
    "LR_cb = ReduceLROnPlateau(monitor='val_loss', factor=0.5, patience=3, min_lr=0.001)\n",
    "TB_cb = TensorBoard(log_dir='./logs')\n",
    "#Fit model with history\n",
    "history = model.fit([X1_train, X2_train], y_train, epochs=10, batch_size=30, callbacks=[LR_cb, TB_cb], validation_data=([X1_val, X2_val], y_val))"
   ]
  },
  {
   "cell_type": "code",
   "execution_count": 18,
   "metadata": {},
   "outputs": [
    {
     "name": "stdout",
     "output_type": "stream",
     "text": [
      "7/7 [==============================] - 0s 3ms/step - loss: 3.4578 - root_mean_squared_error: 1.8595\n"
     ]
    },
    {
     "data": {
      "text/plain": [
       "[3.457827091217041, 1.8595232963562012]"
      ]
     },
     "execution_count": 18,
     "metadata": {},
     "output_type": "execute_result"
    }
   ],
   "source": [
    "model.evaluate([X1_test, X2_test], y_test)"
   ]
  },
  {
   "cell_type": "code",
   "execution_count": 19,
   "metadata": {},
   "outputs": [
    {
     "data": {
      "image/png": "[encoded data removed]",
      "text/plain": [
       "<Figure size 1080x360 with 2 Axes>"
      ]
     },
     "metadata": {
      "needs_background": "light"
     },
     "output_type": "display_data"
    }
   ],
   "source": [
    "learning_plots(history)"
   ]
  },
  {
   "cell_type": "markdown",
   "metadata": {},
   "source": [
    "## Results\n",
    "\n",
    "This was a trial run to confirm GRU model does not have impact on the calculated indices. Overfitting seems common on all NN models. Next approach would be to determine other indices, evaluate the effect of rate of change of different indices and use a simpler model based on CART or SVM."
   ]
  }
 ],
 "metadata": {
  "colab": {
   "name": "Starter Notebook - CGIAR Yield Estimation.ipynb",
   "provenance": [],
   "toc_visible": true
  },
  "kernelspec": {
   "display_name": "Python 3",
   "language": "python",
   "name": "python3"
  },
  "language_info": {
   "codemirror_mode": {
    "name": "ipython",
    "version": 3
   },
   "file_extension": ".py",
   "mimetype": "text/x-python",
   "name": "python",
   "nbconvert_exporter": "python",
   "pygments_lexer": "ipython3",
   "version": "3.8.3"
  }
 },
 "nbformat": 4,
 "nbformat_minor": 1
}
