{
 "cells": [
  {
   "cell_type": "code",
   "execution_count": 1,
   "metadata": {
    "id": "TTWgteym1IMD"
   },
   "outputs": [],
   "source": [
    "import pandas as pd\n",
    "import numpy as np\n",
    "import matplotlib.pyplot as plt\n",
    "import seaborn as sns\n",
    "from numpy.random import seed\n",
    "from Zindi import * #This is a custom module for helpful functions\n",
    "seed(7)"
   ]
  },
  {
   "cell_type": "code",
   "execution_count": 2,
   "metadata": {
    "scrolled": true
   },
   "outputs": [
    {
     "name": "stdout",
     "output_type": "stream",
     "text": [
      "Adding satellite image data to Numpy array ----------\n",
      "Min =  0.0\n",
      "Max =  15977.0\n",
      "Mean =  1115.8700131856158\n",
      "Std =  1115.4589212146866\n",
      "Shape of train array X: (2552, 12, 40, 40, 27)\n",
      "Shape of train labels y: (2552,)\n"
     ]
    }
   ],
   "source": [
    "#read_train_img() is a function from the Zindi custom module that will read all images in the train file.\n",
    "X, y = read_train_img()"
   ]
  },
  {
   "cell_type": "code",
   "execution_count": 3,
   "metadata": {},
   "outputs": [],
   "source": [
    "np.save('train_raw.npy', X)\n",
    "np.save('train_labels.npy', y)"
   ]
  },
  {
   "cell_type": "code",
   "execution_count": 4,
   "metadata": {},
   "outputs": [
    {
     "name": "stdout",
     "output_type": "stream",
     "text": [
      "False\n"
     ]
    }
   ],
   "source": [
    "#Check if any values are nan\n",
    "sumX = cp.sum(X)\n",
    "print(cp.isnan(sumX))"
   ]
  },
  {
   "cell_type": "code",
   "execution_count": 5,
   "metadata": {
    "scrolled": true
   },
   "outputs": [
    {
     "name": "stdout",
     "output_type": "stream",
     "text": [
      "[   0.    0.    0.    0. 1024.    0.    0. 1024.    0.    0.    0. 1024.]\n"
     ]
    }
   ],
   "source": [
    "print(X[99,:,2,2,13]) #some random pixel with more than one month with cloud in QA60 channel\n",
    "B = X[99,:,2,2,2].copy() #copy that pixel for before and after cloud masking comparison"
   ]
  },
  {
   "cell_type": "markdown",
   "metadata": {},
   "source": [
    "## Cloud Mask\n",
    "Band QA60 is a cloud mask. A value of 1024 means cloud and 2048 means cirrus cloud is present in that pixel. We use this to identify pixels in all Sentinel 2A bands and replace the pixel value in each band by interpolating between the previous and next month values. The pixel value of QA60 band is 0 if there is no cloud."
   ]
  },
  {
   "cell_type": "code",
   "execution_count": 6,
   "metadata": {},
   "outputs": [],
   "source": [
    "#This function fills nan values in a array by interpolation\n",
    "def fill_nan(y):\n",
    "    nans = np.isnan(y)\n",
    "    x = lambda z: z.nonzero()[0]\n",
    "    y[nans]= np.interp(x(nans), x(~nans), y[~nans])\n",
    "    return y"
   ]
  },
  {
   "cell_type": "code",
   "execution_count": 7,
   "metadata": {},
   "outputs": [],
   "source": [
    "#QA60 band is at channel 13.\n",
    "#First we use the band as a mask and replace incorrect pixel values with nan. \n",
    "X[..., :12][X[..., 13]>0] = np.nan\n",
    "\n",
    "#Now we replace the nan values by interpolating values at from the previous and next month.\n",
    "#The function fill_nan takes care of interpolation.\n",
    "for sample in range(2552):\n",
    "    for w in range(40):\n",
    "        for h in range(40):\n",
    "            for ch in range(12):\n",
    "                X[sample,: , w, h, ch] = fill_nan(X[sample,: , w, h, ch])"
   ]
  },
  {
   "cell_type": "code",
   "execution_count": 8,
   "metadata": {
    "scrolled": true
   },
   "outputs": [
    {
     "data": {
      "text/plain": [
       "<matplotlib.collections.PathCollection at 0x2a88d8c76d0>"
      ]
     },
     "execution_count": 8,
     "metadata": {},
     "output_type": "execute_result"
    },
    {
     "data": {
      "image/png": "[encoded data removed]",
      "text/plain": [
       "<Figure size 432x288 with 1 Axes>"
      ]
     },
     "metadata": {
      "needs_background": "light"
     },
     "output_type": "display_data"
    }
   ],
   "source": [
    "#compare old (red) and new (blue) pixels\n",
    "x = np.arange(12)\n",
    "plt.scatter(x, X[99,:,2,2,2], c='blue')\n",
    "plt.scatter(x, B, c='red')"
   ]
  },
  {
   "cell_type": "markdown",
   "metadata": {},
   "source": [
    "Comparing the blue and red dots above, we can see that the pixel values at month 4, 7 and 11 have been replaced with interpolated values."
   ]
  },
  {
   "cell_type": "code",
   "execution_count": 9,
   "metadata": {
    "scrolled": false
   },
   "outputs": [
    {
     "name": "stdout",
     "output_type": "stream",
     "text": [
      "Min =  -1.3498676081200351\n",
      "Max =  4.278768233387358\n",
      "Mean =  0.6596612801945116\n",
      "Std =  0.4790663949492963\n",
      "NDVI, EVI2, MSI & NDWI added to channels 0, 1, 2 & 3 respectively!\n",
      "Processed input shape is:  (2552, 12, 40, 40, 4)\n"
     ]
    }
   ],
   "source": [
    "#process_indices() from the Zindi custom module to calculate 4 indices NDVI, EVI2, MSI and NDWI.\n",
    "#These four indices are assumed to be the most relevant. MOre experimentation is certainly required to see what valuable.\n",
    "X_ind = process_indices(X)"
   ]
  },
  {
   "cell_type": "code",
   "execution_count": 10,
   "metadata": {},
   "outputs": [
    {
     "name": "stdout",
     "output_type": "stream",
     "text": [
      "Min =  -1.0646128501488141\n",
      "Max =  10.992055702329584\n",
      "Mean =  1.2458543899777187e-15\n",
      "Std =  0.9999999999999997\n",
      "Features of input array have been scaled!\n"
     ]
    }
   ],
   "source": [
    "#std_scale_input() is from the Zindi custom module similar to sklearn standard scaler.\n",
    "X_scaled, X_mean, X_std = std_scale_input(X)"
   ]
  },
  {
   "cell_type": "code",
   "execution_count": 11,
   "metadata": {
    "scrolled": true
   },
   "outputs": [
    {
     "name": "stdout",
     "output_type": "stream",
     "text": [
      "0.9999999999974775 0.0\n"
     ]
    }
   ],
   "source": [
    "#Once normalized, we need to confirmt eh distribution of the data hasn't been changes.\n",
    "#We use Kendall Tau correlation coefficient to confirm.\n",
    "#If the distribution of data before and after transformation is the same, 'stat' should be close to 1 and p < 0.05\n",
    "from scipy.stats import kendalltau\n",
    "stat, p = kendalltau(X[:7], X_scaled[:7])\n",
    "print(stat, p)"
   ]
  },
  {
   "cell_type": "code",
   "execution_count": 12,
   "metadata": {},
   "outputs": [],
   "source": [
    "np.save('train_feat.npy', X)\n",
    "np.save('train_ind.npy', X_ind)\n",
    "#Load indices to bands 0, 1, 9 & 10\n",
    "X_scaled[..., 0] = X_ind[..., 0]\n",
    "X_scaled[..., 1] = X_ind[..., 1]\n",
    "X_scaled[..., 9] = X_ind[..., 2]\n",
    "X_scaled[..., 10] = X_ind[..., 3]\n",
    "np.save('train_ind_scaled.npy', X_scaled)"
   ]
  },
  {
   "cell_type": "code",
   "execution_count": 13,
   "metadata": {},
   "outputs": [],
   "source": [
    "#Only 6 months data kept (from Feb to July). All bands preserved.\n",
    "X_6mos = np.delete(X_scaled, [0,7,8,9,10,11], 1)\n",
    "np.save('train_ind_scaled_6m.npy', X_6mos)"
   ]
  },
  {
   "cell_type": "code",
   "execution_count": 14,
   "metadata": {},
   "outputs": [
    {
     "data": {
      "text/plain": [
       "<matplotlib.collections.PathCollection at 0x2a88d9b20a0>"
      ]
     },
     "execution_count": 14,
     "metadata": {},
     "output_type": "execute_result"
    },
    {
     "data": {
      "image/png": "[encoded data removed]",
      "text/plain": [
       "<Figure size 720x360 with 2 Axes>"
      ]
     },
     "metadata": {
      "needs_background": "light"
     },
     "output_type": "display_data"
    }
   ],
   "source": [
    "#Vizualize a sample pixel value across 12 months to see if the distribution has not changed.\n",
    "plt.figure(figsize=(10,5))\n",
    "\n",
    "plt.subplot(121)\n",
    "plt.title(\"Original\")\n",
    "plt.scatter(x, X[199,:,10,10,2])\n",
    "\n",
    "plt.subplot(122)\n",
    "plt.title(\"Scaled\")\n",
    "plt.scatter(x, X_scaled[199,:,10,10,2])"
   ]
  },
  {
   "cell_type": "code",
   "execution_count": 15,
   "metadata": {
    "scrolled": true
   },
   "outputs": [
    {
     "data": {
      "text/plain": [
       "<matplotlib.collections.PathCollection at 0x2a88db94070>"
      ]
     },
     "execution_count": 15,
     "metadata": {},
     "output_type": "execute_result"
    },
    {
     "data": {
      "image/png": "[encoded data removed]",
      "text/plain": [
       "<Figure size 720x360 with 2 Axes>"
      ]
     },
     "metadata": {
      "needs_background": "light"
     },
     "output_type": "display_data"
    }
   ],
   "source": [
    "#Same check as above, except this time we're looking at a pixel at month 4 across all 27 channels.\n",
    "plt.figure(figsize=(10,5))\n",
    "\n",
    "plt.subplot(121)\n",
    "plt.title(\"Original\")\n",
    "plt.scatter(np.arange(27), X[199,4,10,10,:])\n",
    "\n",
    "plt.subplot(122)\n",
    "plt.title(\"Scaled\")\n",
    "plt.scatter(np.arange(27), X_scaled[199,4,10,10,:])"
   ]
  },
  {
   "cell_type": "markdown",
   "metadata": {},
   "source": [
    "## Test Data Preparation\n",
    "Repeat the above steps for test data. This time, normalizing is done using the mean and std from train set."
   ]
  },
  {
   "cell_type": "code",
   "execution_count": 16,
   "metadata": {},
   "outputs": [
    {
     "name": "stdout",
     "output_type": "stream",
     "text": [
      "Adding satellite image data to Numpy array ----------\n",
      "Shape of final train array: (1055, 12, 40, 40, 27)\n",
      "Min =  0.0\n",
      "Max =  13900.0\n",
      "Mean =  1045.872578268533\n",
      "Std =  1048.913988926129\n"
     ]
    }
   ],
   "source": [
    "X_test = read_test_img()"
   ]
  },
  {
   "cell_type": "code",
   "execution_count": 17,
   "metadata": {},
   "outputs": [],
   "source": [
    "np.save('test_raw.npy', X_test)"
   ]
  },
  {
   "cell_type": "code",
   "execution_count": 18,
   "metadata": {},
   "outputs": [
    {
     "name": "stdout",
     "output_type": "stream",
     "text": [
      "False\n"
     ]
    }
   ],
   "source": [
    "#Check if any values are nan\n",
    "sumX_test = cp.sum(X_test)\n",
    "print(cp.isnan(sumX_test))"
   ]
  },
  {
   "cell_type": "code",
   "execution_count": 19,
   "metadata": {},
   "outputs": [
    {
     "data": {
      "text/plain": [
       "(1055, 12, 40, 40, 27)"
      ]
     },
     "execution_count": 19,
     "metadata": {},
     "output_type": "execute_result"
    }
   ],
   "source": [
    "X_test.shape"
   ]
  },
  {
   "cell_type": "code",
   "execution_count": 20,
   "metadata": {},
   "outputs": [],
   "source": [
    "#Cloud mask for test set\n",
    "X_test[..., :12][X_test[..., 13]>0] = np.nan\n",
    "for sample in range(1055):\n",
    "    for w in range(40):\n",
    "        for h in range(40):\n",
    "            for ch in range(12):\n",
    "                X_test[sample,: , w, h, ch] = fill_nan(X_test[sample,: , w, h, ch])"
   ]
  },
  {
   "cell_type": "code",
   "execution_count": 21,
   "metadata": {
    "scrolled": true
   },
   "outputs": [
    {
     "name": "stdout",
     "output_type": "stream",
     "text": [
      "Min =  -1.40069848661234\n",
      "Max =  5.018656716417911\n",
      "Mean =  0.6871267553064154\n",
      "Std =  0.4852161167915641\n",
      "NDVI, EVI2, MSI & NDWI added to channels 0, 1, 2 & 3 respectively!\n",
      "Processed input shape is:  (1055, 12, 40, 40, 4)\n"
     ]
    }
   ],
   "source": [
    "#Calculate indices\n",
    "X_test_ind = process_indices(X_test)"
   ]
  },
  {
   "cell_type": "code",
   "execution_count": 22,
   "metadata": {},
   "outputs": [],
   "source": [
    "#Scale inputs using mean and std from train set\n",
    "X_test_scaled = (X_test - X_mean) / X_std"
   ]
  },
  {
   "cell_type": "code",
   "execution_count": 23,
   "metadata": {},
   "outputs": [],
   "source": [
    "np.save('test_feat.npy', X_test)\n",
    "np.save('test_ind.npy', X_test_ind)\n",
    "#Load indices to bands 0, 1, 9 & 10\n",
    "X_scaled[..., 0] = X_ind[..., 0]\n",
    "X_scaled[..., 1] = X_ind[..., 1]\n",
    "X_scaled[..., 9] = X_ind[..., 2]\n",
    "X_scaled[..., 10] = X_ind[..., 3]\n",
    "np.save('test_ind_scaled.npy', X_test_scaled)"
   ]
  },
  {
   "cell_type": "code",
   "execution_count": 24,
   "metadata": {},
   "outputs": [],
   "source": [
    "#Only 6 months data kept (from Feb to July). All bands preserved.\n",
    "X_test_6mos = np.delete(X_test_scaled, [0,7,8,9,10,11], 1)\n",
    "np.save('test_ind_scaled_6m.npy', X_test_6mos)"
   ]
  },
  {
   "cell_type": "code",
   "execution_count": null,
   "metadata": {},
   "outputs": [],
   "source": []
  }
 ],
 "metadata": {
  "colab": {
   "name": "Starter Notebook - CGIAR Yield Estimation.ipynb",
   "provenance": [],
   "toc_visible": true
  },
  "kernelspec": {
   "display_name": "Python 3",
   "language": "python",
   "name": "python3"
  },
  "language_info": {
   "codemirror_mode": {
    "name": "ipython",
    "version": 3
   },
   "file_extension": ".py",
   "mimetype": "text/x-python",
   "name": "python",
   "nbconvert_exporter": "python",
   "pygments_lexer": "ipython3",
   "version": "3.8.3"
  }
 },
 "nbformat": 4,
 "nbformat_minor": 1
}
