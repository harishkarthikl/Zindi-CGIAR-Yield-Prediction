{
 "cells": [
  {
   "cell_type": "code",
   "execution_count": 1,
   "metadata": {
    "id": "TTWgteym1IMD"
   },
   "outputs": [],
   "source": [
    "import pandas as pd\n",
    "import numpy as np\n",
    "from matplotlib import pyplot as plt\n",
    "from Zindi import *\n",
    "from numpy.random import seed\n",
    "seed(7)"
   ]
  },
  {
   "cell_type": "code",
   "execution_count": 2,
   "metadata": {},
   "outputs": [],
   "source": [
    "X = np.load('train_ind_log_scaled_6m.npy').astype(np.float16)\n",
    "y = np.load('train_labels.npy').astype(np.float16)"
   ]
  },
  {
   "cell_type": "markdown",
   "metadata": {},
   "source": [
    "## Data Augmentation"
   ]
  },
  {
   "cell_type": "code",
   "execution_count": 3,
   "metadata": {},
   "outputs": [],
   "source": [
    "#Generate new images rotated 90deg clockwise\n",
    "Xaug1 = X.swapaxes(2,3)[:,:,:,::-1,:]\n",
    "#generate new images rotated 180deg clockwise\n",
    "Xaug2 = Xaug1.swapaxes(2,3)[:,:,:,::-1,:]\n",
    "#Generate new images rotated 90deg counter-clockwise\n",
    "Xaug3 = X.swapaxes(2,3)[:,:,::-1,:,:]"
   ]
  },
  {
   "cell_type": "code",
   "execution_count": 4,
   "metadata": {},
   "outputs": [],
   "source": [
    "#Generate new images by 10px horizontal shift\n",
    "Xaug4 = np.roll(X, 3, axis=2)\n",
    "Xaug5 = np.roll(X, -3, axis=2)\n",
    "#Generate new images by 10px vertical shift\n",
    "Xaug6 = np.roll(X, 3, axis=3)\n",
    "Xaug7 = np.roll(X, -3, axis=3)"
   ]
  },
  {
   "cell_type": "code",
   "execution_count": 5,
   "metadata": {},
   "outputs": [
    {
     "name": "stdout",
     "output_type": "stream",
     "text": [
      "Augmented feature shape (20416, 6, 40, 40, 27)\n",
      "Augmented labels shape (20416,)\n"
     ]
    }
   ],
   "source": [
    "#Stack all rotated inputs together, and labels.\n",
    "Xaug = np.vstack((X, Xaug1, Xaug2, Xaug3, Xaug4, Xaug5, Xaug6, Xaug7))\n",
    "yaug = np.hstack((y, y, y, y, y, y, y, y))\n",
    "print(\"Augmented feature shape\", Xaug.shape)\n",
    "print(\"Augmented labels shape\", yaug.shape)"
   ]
  },
  {
   "cell_type": "markdown",
   "metadata": {},
   "source": [
    "## Select only the 10 square pixels at the center"
   ]
  },
  {
   "cell_type": "code",
   "execution_count": 6,
   "metadata": {},
   "outputs": [],
   "source": [
    "#Split Sentinel 2A channels and Terraclim channels (ignore QA60 channel from Sentinel)\n",
    "#Select only B1, B5, B7 & B7 (all 4 calculated indices) from Sentinel 2A\n",
    "#Select only pdsi, pr, tmmn, tmmx\n",
    "X1 = Xaug[:,:,16:26,16:26,(0,1,9,10)]\n",
    "X2_temp = Xaug[:,:,16:26,16:26,(16,18,23,24)]"
   ]
  },
  {
   "cell_type": "code",
   "execution_count": 7,
   "metadata": {},
   "outputs": [],
   "source": [
    "#Shuffle augmented data once again\n",
    "indices = np.arange(X1.shape[0])\n",
    "np.random.shuffle(indices)\n",
    "X1 = X1[indices]\n",
    "X2_temp = X2_temp[indices]\n",
    "y = yaug[indices]"
   ]
  },
  {
   "cell_type": "code",
   "execution_count": 8,
   "metadata": {},
   "outputs": [],
   "source": [
    "#Terraclim values are same across pixels with rare differences. Lets takes only the mean values\n",
    "X2 = np.mean(X2_temp, axis=(2,3))"
   ]
  },
  {
   "cell_type": "code",
   "execution_count": 9,
   "metadata": {},
   "outputs": [
    {
     "name": "stdout",
     "output_type": "stream",
     "text": [
      "X1 shape is:  (20416, 6, 10, 10, 4)\n",
      "X2 shape is:  (20416, 6, 4)\n"
     ]
    }
   ],
   "source": [
    "print(\"X1 shape is: \", X1.shape)\n",
    "print(\"X2 shape is: \", X2.shape)"
   ]
  },
  {
   "cell_type": "code",
   "execution_count": 10,
   "metadata": {
    "scrolled": true
   },
   "outputs": [
    {
     "name": "stdout",
     "output_type": "stream",
     "text": [
      "Train set shape:  (20016, 6, 10, 10, 4)\n",
      "Train target shape:  (20016,)\n",
      "Val set shape:  (200, 6, 10, 10, 4)\n",
      "Val target shape:  (200,)\n",
      "Test set shape:  (200, 6, 10, 10, 4)\n",
      "Test target shape:  (200,)\n"
     ]
    }
   ],
   "source": [
    "#Split train, validation and test sets for Sentinel 2A channels\n",
    "X1_train, y_train, X1_val, y_val, X1_test, y_test = train_val_test_split(X1, yaug, 200)"
   ]
  },
  {
   "cell_type": "code",
   "execution_count": 11,
   "metadata": {
    "scrolled": true
   },
   "outputs": [
    {
     "name": "stdout",
     "output_type": "stream",
     "text": [
      "Train set shape:  (20016, 6, 4)\n",
      "Train target shape:  (20016,)\n",
      "Val set shape:  (200, 6, 4)\n",
      "Val target shape:  (200,)\n",
      "Test set shape:  (200, 6, 4)\n",
      "Test target shape:  (200,)\n"
     ]
    }
   ],
   "source": [
    "#Split train, validation and test sets for Terraclim channels\n",
    "X2_train, _, X2_val, _, X2_test, _ = train_val_test_split(X2, yaug, 200)"
   ]
  },
  {
   "cell_type": "markdown",
   "metadata": {},
   "source": [
    "## Build a NN\n",
    "\n",
    "Two inputs - Sentinel 2A pixel values pass through a ConvLSTMN layer, and Terraclim values pass through an LSTM layer."
   ]
  },
  {
   "cell_type": "code",
   "execution_count": 12,
   "metadata": {},
   "outputs": [],
   "source": [
    "import tensorflow as tf\n",
    "from tensorflow.keras.models import Sequential\n",
    "from tensorflow.keras.layers import ConvLSTM2D, Dense, Flatten, Dropout, BatchNormalization, LSTM, Concatenate\n",
    "from tensorflow.keras.optimizers import Adam\n",
    "from tensorflow.keras.losses import MeanSquaredError\n",
    "from tensorflow.keras.callbacks import ReduceLROnPlateau"
   ]
  },
  {
   "cell_type": "code",
   "execution_count": 13,
   "metadata": {},
   "outputs": [
    {
     "name": "stdout",
     "output_type": "stream",
     "text": [
      "# of GPU's available:  1\n"
     ]
    }
   ],
   "source": [
    "physical_devices = tf.config.list_physical_devices('GPU') \n",
    "physical_device = tf.config.experimental.list_physical_devices('GPU')\n",
    "print(\"# of GPU's available: \", len(physical_device))\n",
    "tf.config.experimental.set_memory_growth(physical_device[0], True)"
   ]
  },
  {
   "cell_type": "code",
   "execution_count": 14,
   "metadata": {},
   "outputs": [],
   "source": [
    "#Build a ConvLSTM model for Sentinel 2A channels\n",
    "input_S2A = tf.keras.Input(shape=(None, 10, 10, 4))\n",
    "convlstm_1 = ConvLSTM2D(filters=32,\n",
    "               kernel_size=(5,5),\n",
    "               strides=1,\n",
    "               padding='valid',\n",
    "               return_sequences=True,\n",
    "               dropout=0.25)(input_S2A)\n",
    "batch_S2_1 = BatchNormalization()(convlstm_1)\n",
    "convlstm_2 = ConvLSTM2D(filters=64,\n",
    "               kernel_size=(4,4),\n",
    "               strides=1,\n",
    "               padding='valid',\n",
    "               return_sequences=True,\n",
    "               dropout=0.25)(batch_S2_1)\n",
    "batch_S2_2 = BatchNormalization()(convlstm_2)\n",
    "convlstm_3 = ConvLSTM2D(filters=128,\n",
    "               kernel_size=(3,3),\n",
    "               strides=1,\n",
    "               padding='valid',\n",
    "               return_sequences=False,\n",
    "               dropout=0.25)(batch_S2_2)\n",
    "batch_S2_3 = BatchNormalization()(convlstm_3)\n",
    "flat_S2_1 = Flatten()(batch_S2_3)\n",
    "drop_S2_1 = Dropout(rate=0.5, seed=99)(flat_S2_1)\n",
    "dense_S2_1 = Dense(units=64, activation='relu')(drop_S2_1)\n",
    "\n",
    "#Build an LSTM model for Terraclim channels\n",
    "input_TC = tf.keras.Input(shape=(None,4))\n",
    "lstm_1 = LSTM(units=64, activation=\"tanh\", kernel_initializer=\"glorot_uniform\",\n",
    "              return_sequences=True, dropout=0)(input_TC)\n",
    "batch_TC_1 = BatchNormalization()(lstm_1)\n",
    "lstm_2 = LSTM(units=64, activation=\"tanh\", kernel_initializer=\"glorot_uniform\",\n",
    "              return_sequences=False, dropout=0)(batch_TC_1)\n",
    "batch_TC_2 = BatchNormalization()(lstm_2)\n",
    "drop_TC_1 = Dropout(rate=0.5, seed=99)(batch_TC_2)\n",
    "dense_TC_1 = Dense(units=64, activation='relu')(drop_TC_1)\n",
    "\n",
    "#Combine both model outputs\n",
    "concat = Concatenate()([dense_S2_1, dense_TC_1])\n",
    "dense_1 = Dense(units=64, activation='relu')(concat)\n",
    "drop_1 = Dropout(rate=0.5, seed=99)(dense_1)\n",
    "output = Dense(units=1, activation='linear')(drop_1)\n",
    "\n",
    "model = tf.keras.Model([input_S2A, input_TC], output)"
   ]
  },
  {
   "cell_type": "code",
   "execution_count": 15,
   "metadata": {
    "scrolled": true
   },
   "outputs": [
    {
     "name": "stdout",
     "output_type": "stream",
     "text": [
      "Model: \"functional_1\"\n",
      "__________________________________________________________________________________________________\n",
      "Layer (type)                    Output Shape         Param #     Connected to                     \n",
      "==================================================================================================\n",
      "input_1 (InputLayer)            [(None, None, 10, 10 0                                            \n",
      "__________________________________________________________________________________________________\n",
      "conv_lst_m2d (ConvLSTM2D)       (None, None, 6, 6, 3 115328      input_1[0][0]                    \n",
      "__________________________________________________________________________________________________\n",
      "batch_normalization (BatchNorma (None, None, 6, 6, 3 128         conv_lst_m2d[0][0]               \n",
      "__________________________________________________________________________________________________\n",
      "conv_lst_m2d_1 (ConvLSTM2D)     (None, None, 3, 3, 6 393472      batch_normalization[0][0]        \n",
      "__________________________________________________________________________________________________\n",
      "input_2 (InputLayer)            [(None, None, 4)]    0                                            \n",
      "__________________________________________________________________________________________________\n",
      "batch_normalization_1 (BatchNor (None, None, 3, 3, 6 256         conv_lst_m2d_1[0][0]             \n",
      "__________________________________________________________________________________________________\n",
      "lstm (LSTM)                     (None, None, 64)     17664       input_2[0][0]                    \n",
      "__________________________________________________________________________________________________\n",
      "conv_lst_m2d_2 (ConvLSTM2D)     (None, 1, 1, 128)    885248      batch_normalization_1[0][0]      \n",
      "__________________________________________________________________________________________________\n",
      "batch_normalization_3 (BatchNor (None, None, 64)     256         lstm[0][0]                       \n",
      "__________________________________________________________________________________________________\n",
      "batch_normalization_2 (BatchNor (None, 1, 1, 128)    512         conv_lst_m2d_2[0][0]             \n",
      "__________________________________________________________________________________________________\n",
      "lstm_1 (LSTM)                   (None, 64)           33024       batch_normalization_3[0][0]      \n",
      "__________________________________________________________________________________________________\n",
      "flatten (Flatten)               (None, 128)          0           batch_normalization_2[0][0]      \n",
      "__________________________________________________________________________________________________\n",
      "batch_normalization_4 (BatchNor (None, 64)           256         lstm_1[0][0]                     \n",
      "__________________________________________________________________________________________________\n",
      "dropout (Dropout)               (None, 128)          0           flatten[0][0]                    \n",
      "__________________________________________________________________________________________________\n",
      "dropout_1 (Dropout)             (None, 64)           0           batch_normalization_4[0][0]      \n",
      "__________________________________________________________________________________________________\n",
      "dense (Dense)                   (None, 64)           8256        dropout[0][0]                    \n",
      "__________________________________________________________________________________________________\n",
      "dense_1 (Dense)                 (None, 64)           4160        dropout_1[0][0]                  \n",
      "__________________________________________________________________________________________________\n",
      "concatenate (Concatenate)       (None, 128)          0           dense[0][0]                      \n",
      "                                                                 dense_1[0][0]                    \n",
      "__________________________________________________________________________________________________\n",
      "dense_2 (Dense)                 (None, 64)           8256        concatenate[0][0]                \n",
      "__________________________________________________________________________________________________\n",
      "dropout_2 (Dropout)             (None, 64)           0           dense_2[0][0]                    \n",
      "__________________________________________________________________________________________________\n",
      "dense_3 (Dense)                 (None, 1)            65          dropout_2[0][0]                  \n",
      "==================================================================================================\n",
      "Total params: 1,466,881\n",
      "Trainable params: 1,466,177\n",
      "Non-trainable params: 704\n",
      "__________________________________________________________________________________________________\n"
     ]
    }
   ],
   "source": [
    "model.summary()"
   ]
  },
  {
   "cell_type": "code",
   "execution_count": 16,
   "metadata": {
    "colab": {
     "base_uri": "https://localhost:8080/",
     "height": 301
    },
    "id": "n6KcHAzaHR9y",
    "outputId": "936e7eb5-ea3c-4474-8e9a-eea69adf61a7"
   },
   "outputs": [],
   "source": [
    "#Compile model\n",
    "opt = Adam(learning_rate=0.02)\n",
    "loss = MeanSquaredError()\n",
    "model.compile(optimizer=opt, loss=loss, metrics=[tf.keras.metrics.RootMeanSquaredError()])"
   ]
  },
  {
   "cell_type": "code",
   "execution_count": 17,
   "metadata": {
    "scrolled": true
   },
   "outputs": [
    {
     "name": "stdout",
     "output_type": "stream",
     "text": [
      "Epoch 1/15\n",
      "668/668 [==============================] - 86s 128ms/step - loss: 3.3405 - root_mean_squared_error: 1.8277 - val_loss: 4.1303 - val_root_mean_squared_error: 2.0323\n",
      "Epoch 2/15\n",
      "668/668 [==============================] - 84s 126ms/step - loss: 2.9691 - root_mean_squared_error: 1.7231 - val_loss: 4.0335 - val_root_mean_squared_error: 2.0084\n",
      "Epoch 3/15\n",
      "668/668 [==============================] - 84s 126ms/step - loss: 2.9563 - root_mean_squared_error: 1.7194 - val_loss: 4.0648 - val_root_mean_squared_error: 2.0161\n",
      "Epoch 4/15\n",
      "668/668 [==============================] - 84s 126ms/step - loss: 2.9532 - root_mean_squared_error: 1.7185 - val_loss: 4.1459 - val_root_mean_squared_error: 2.0361\n",
      "Epoch 5/15\n",
      "668/668 [==============================] - 84s 126ms/step - loss: 2.9532 - root_mean_squared_error: 1.7185 - val_loss: 4.1255 - val_root_mean_squared_error: 2.0311\n",
      "Epoch 6/15\n",
      "668/668 [==============================] - 84s 126ms/step - loss: 2.9513 - root_mean_squared_error: 1.7179 - val_loss: 4.1597 - val_root_mean_squared_error: 2.0395\n",
      "Epoch 7/15\n",
      "668/668 [==============================] - 84s 126ms/step - loss: 2.9513 - root_mean_squared_error: 1.7179 - val_loss: 4.1898 - val_root_mean_squared_error: 2.0469\n",
      "Epoch 8/15\n",
      "668/668 [==============================] - 85s 127ms/step - loss: 2.9529 - root_mean_squared_error: 1.7184 - val_loss: 4.0428 - val_root_mean_squared_error: 2.0107\n",
      "Epoch 9/15\n",
      "668/668 [==============================] - 84s 126ms/step - loss: 2.9511 - root_mean_squared_error: 1.7179 - val_loss: 4.0579 - val_root_mean_squared_error: 2.0144\n",
      "Epoch 10/15\n",
      "668/668 [==============================] - 85s 127ms/step - loss: 2.9506 - root_mean_squared_error: 1.7177 - val_loss: 4.0306 - val_root_mean_squared_error: 2.0076\n",
      "Epoch 11/15\n",
      "668/668 [==============================] - 84s 126ms/step - loss: 2.9508 - root_mean_squared_error: 1.7178 - val_loss: 4.1008 - val_root_mean_squared_error: 2.0250\n",
      "Epoch 12/15\n",
      "668/668 [==============================] - 84s 126ms/step - loss: 2.9507 - root_mean_squared_error: 1.7178 - val_loss: 4.0801 - val_root_mean_squared_error: 2.0199\n",
      "Epoch 13/15\n",
      "668/668 [==============================] - 84s 126ms/step - loss: 2.9505 - root_mean_squared_error: 1.7177 - val_loss: 4.0926 - val_root_mean_squared_error: 2.0230\n",
      "Epoch 14/15\n",
      "668/668 [==============================] - 85s 127ms/step - loss: 2.9502 - root_mean_squared_error: 1.7176 - val_loss: 4.1279 - val_root_mean_squared_error: 2.0317\n",
      "Epoch 15/15\n",
      "668/668 [==============================] - 84s 126ms/step - loss: 2.9502 - root_mean_squared_error: 1.7176 - val_loss: 4.0535 - val_root_mean_squared_error: 2.0133\n"
     ]
    }
   ],
   "source": [
    "#Set learning rate with callbacks\n",
    "callback = ReduceLROnPlateau(monitor='val_loss', factor=0.5, patience=3, min_lr=0.001)\n",
    "#Fit model with history\n",
    "history = model.fit([X1_train, X2_train], y_train, epochs=15, batch_size=30, callbacks=callback, validation_data=([X1_val, X2_val], y_val))"
   ]
  },
  {
   "cell_type": "code",
   "execution_count": 18,
   "metadata": {},
   "outputs": [
    {
     "name": "stdout",
     "output_type": "stream",
     "text": [
      "7/7 [==============================] - 0s 22ms/step - loss: 3.4606 - root_mean_squared_error: 1.8603\n"
     ]
    },
    {
     "data": {
      "text/plain": [
       "[3.460556745529175, 1.8602571487426758]"
      ]
     },
     "execution_count": 18,
     "metadata": {},
     "output_type": "execute_result"
    }
   ],
   "source": [
    "model.evaluate([X1_test, X2_test], y_test)"
   ]
  },
  {
   "cell_type": "code",
   "execution_count": 19,
   "metadata": {},
   "outputs": [
    {
     "data": {
      "image/png": "[encoded data removed]",
      "text/plain": [
       "<Figure size 1080x360 with 2 Axes>"
      ]
     },
     "metadata": {
      "needs_background": "light"
     },
     "output_type": "display_data"
    }
   ],
   "source": [
    "learning_plots(history)"
   ]
  },
  {
   "cell_type": "markdown",
   "metadata": {},
   "source": [
    "## Results\n",
    "\n",
    "This was a trial run to see if the log transform has any effect on the model's performance/ Looks like the model has large variance. Most likely, a much simpler/smaller model would perform to the expected level and not overfit the data. Further model fine tuning will not be required until more data exploration is done. Some other type of indices may need to be used for better results, instead of trying transformations."
   ]
  }
 ],
 "metadata": {
  "colab": {
   "name": "Starter Notebook - CGIAR Yield Estimation.ipynb",
   "provenance": [],
   "toc_visible": true
  },
  "kernelspec": {
   "display_name": "Python 3",
   "language": "python",
   "name": "python3"
  },
  "language_info": {
   "codemirror_mode": {
    "name": "ipython",
    "version": 3
   },
   "file_extension": ".py",
   "mimetype": "text/x-python",
   "name": "python",
   "nbconvert_exporter": "python",
   "pygments_lexer": "ipython3",
   "version": "3.8.3"
  }
 },
 "nbformat": 4,
 "nbformat_minor": 1
}
